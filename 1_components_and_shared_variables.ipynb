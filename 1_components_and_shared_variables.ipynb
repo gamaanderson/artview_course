{
 "cells": [
  {
   "cell_type": "markdown",
   "metadata": {},
   "source": [
    "# Components and Shared Variable\n",
    "\n",
    "The Best way to understand ARTView is to understand how we come from a simple graphic window to a complex software with a diverse range of functionalities. We well walk you thought this process.\n",
    "\n",
    "Our original objective while writing artview was to make it as modular and flexible as possible. For that we created what we call components, those are standalone windows that don't depend of other components to exist, for instance the Radar Display:"
   ]
  },
  {
   "cell_type": "code",
   "execution_count": null,
   "metadata": {
    "scrolled": true
   },
   "outputs": [],
   "source": [
    "#import\n",
    "import sys\n",
    "from artview import core, components, plugins, view\n",
    "import pyart\n",
    "\n",
    "# start pyqt\n",
    "app = core.QtWidgets.QApplication(sys.argv)\n",
    "\n",
    "#open radar\n",
    "radar = pyart.io.read(\"/home/vagrant/artview/data/example_radar.nc\")\n",
    "\n",
    "#start RadarDisplay\n",
    "plot1 = components.RadarDisplay(core.Variable(radar),name=\"Display\")\n",
    "\n",
    "#start PyQt loop\n",
    "app.exec_()"
   ]
  },
  {
   "cell_type": "markdown",
   "metadata": {},
   "source": [
    "This looks ok if you only want to look into a file. But maybe you want to other files. For that we have the Navigator"
   ]
  },
  {
   "cell_type": "code",
   "execution_count": null,
   "metadata": {
    "scrolled": true
   },
   "outputs": [],
   "source": [
    "#open navigator\n",
    "navigator = components.FileNavigator()\n",
    "radar = navigator.Vradar.value\n",
    "    \n",
    "#start RadarDisplay\n",
    "plot1 = components.RadarDisplay(core.Variable(radar),name=\"Display\")\n",
    "    \n",
    "#start PyQt loop\n",
    "app.exec_()"
   ]
  },
  {
   "cell_type": "markdown",
   "metadata": {},
   "source": [
    "*Oops, the navigator doesn't work.*\n",
    "\n",
    "Well actually it does, the problem is that Display doesn't even know there exist such a thing as a navigator, so how could it know that a new file is open? The answer, our answer, are Shared Variables."
   ]
  },
  {
   "cell_type": "code",
   "execution_count": null,
   "metadata": {
    "collapsed": true
   },
   "outputs": [],
   "source": [
    "#open navigator\n",
    "navigator = components.FileNavigator(filename=\"/home/vagrant/artview/data/example_radar.nc\")\n",
    "    \n",
    "#start RadarDisplay\n",
    "plot1 = components.RadarDisplay(navigator.Vradar,name=\"Display\")\n",
    "    \n",
    "#start PyQt loop\n",
    "app.exec_()"
   ]
  },
  {
   "cell_type": "markdown",
   "metadata": {},
   "source": [
    "*Nice, but making this things manually one the code it not really pratical or flexible. Is there an alternative?*\n",
    "\n",
    "yes, the LinkSharedVariables component.\n"
   ]
  },
  {
   "cell_type": "code",
   "execution_count": null,
   "metadata": {
    "scrolled": true
   },
   "outputs": [],
   "source": [
    "navigator = components.FileNavigator(filename=\"/home/vagrant/artview/data/example_radar.nc\")\n",
    "plot1 = components.RadarDisplay(navigator.Vradar,name=\"Display\")\n",
    "   \n",
    "linking = components.LinkSharedVariables()\n",
    "\n",
    "app.exec_()"
   ]
  },
  {
   "cell_type": "markdown",
   "metadata": {},
   "source": [
    "*Ok, this works. But why the insistance with modularity, I have saw no advantage of it!*\n",
    "\n",
    "Fair enough, lets try to open 2 displays. It is this simple:\n"
   ]
  },
  {
   "cell_type": "code",
   "execution_count": null,
   "metadata": {
    "scrolled": true
   },
   "outputs": [],
   "source": [
    "navigator = components.FileNavigator(filename=\"/home/vagrant/artview/data/example_radar.nc\")\n",
    "\n",
    "plot1 = components.RadarDisplay(navigator.Vradar,name=\"Display 1\")\n",
    "plot2 = components.RadarDisplay(navigator.Vradar,name=\"Display 2\")\n",
    "\n",
    "linking = components.LinkSharedVariables()\n",
    "app.exec_()"
   ]
  },
  {
   "cell_type": "markdown",
   "metadata": {},
   "source": [
    "*I see! But the screen in starting to get crouded. We can do something about it?*"
   ]
  },
  {
   "cell_type": "code",
   "execution_count": null,
   "metadata": {
    "scrolled": true
   },
   "outputs": [],
   "source": [
    "navigator = components.FileNavigator(filename=\"/home/vagrant/artview/data/example_radar.nc\")\n",
    "\n",
    "plot1 = components.RadarDisplay(navigator.Vradar,name=\"Display 1\")\n",
    "plot2 = components.RadarDisplay(navigator.Vradar,name=\"Display 2\")\n",
    "\n",
    "linking = components.LinkSharedVariables()\n",
    "\n",
    "window = components.Window()\n",
    "\n",
    "window.splitHorizontal()\n",
    "window.splitVertical()\n",
    "\n",
    "window.layoutTree[(0,1,0)].addTab(linking,linking.name)\n",
    "window.layoutTree[(0,1,0)].isClosable = False\n",
    "window.layoutTree[(0,0)].addTab(navigator,navigator.name)\n",
    "window.layoutTree[(0,0)].isClosable = False\n",
    "window.layoutTree[(0,0)].tabBar().setVisible(False)\n",
    "window.layoutTree[(0,1,1)].addTab(plot1,plot1.name)\n",
    "window.layoutTree[(0,1,1)].addTab(plot2,plot2.name)\n",
    "\n",
    "app.exec_()"
   ]
  },
  {
   "cell_type": "markdown",
   "metadata": {},
   "source": [
    "*All clear. I just think this is kind of all to complex to ordinary users.*\n",
    "\n",
    "We have a solution for that, those are call modes. A mode is a series of instruction for bringing artview to a desirable state. For instance:\n",
    "\n",
    "Add RadarDisplay: opens a new Radar Display\n",
    "Map Radar to Grid: gets one Radar Display, one Grid Display and a Mapping component. Also performe the needed linking\n",
    "corrections: Open and link several corrections components and organize them in a vertical box layout.\n",
    "\n",
    "Lets explore:"
   ]
  },
  {
   "cell_type": "code",
   "execution_count": null,
   "metadata": {
    "scrolled": true
   },
   "outputs": [],
   "source": [
    "try:\n",
    "    del app\n",
    "except:\n",
    "    pass\n",
    "\n",
    "import artview\n",
    "artview.scripts.layout()"
   ]
  }
 ],
 "metadata": {
  "kernelspec": {
   "display_name": "Python 3",
   "language": "python",
   "name": "python3"
  },
  "language_info": {
   "codemirror_mode": {
    "name": "ipython",
    "version": 3
   },
   "file_extension": ".py",
   "mimetype": "text/x-python",
   "name": "python",
   "nbconvert_exporter": "python",
   "pygments_lexer": "ipython3",
   "version": "3.5.3"
  }
 },
 "nbformat": 4,
 "nbformat_minor": 2
}
