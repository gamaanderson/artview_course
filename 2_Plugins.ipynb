{
 "cells": [
  {
   "cell_type": "markdown",
   "metadata": {},
   "source": [
    "# Plugins"
   ]
  },
  {
   "cell_type": "markdown",
   "metadata": {},
   "source": [
    "Create the Plugin:"
   ]
  },
  {
   "cell_type": "code",
   "execution_count": 1,
   "metadata": {},
   "outputs": [
    {
     "name": "stdout",
     "output_type": "stream",
     "text": [
      "\n",
      "## You are using the Python ARM Radar Toolkit (Py-ART), an open source\n",
      "## library for working with weather radar data.\n",
      "##\n",
      "## If you use this software to prepare a publication, please cite:\n",
      "##\n",
      "##     JJ Helmus and SM Collis, JORS 2016, doi: 10.5334/jors.119 \n"
     ]
    }
   ],
   "source": [
    "import artview\n",
    "\n",
    "class RealTime(artview.core.Component):\n",
    "\n",
    "    @classmethod\n",
    "    def guiStart(self, parent=None):\n",
    "        return self(), True\n",
    "\n",
    "    def __init__(self, name=\"RealTime\", parent=None):\n",
    "        '''\n",
    "        make test radar for animation\n",
    "        '''\n",
    "        super(RealTime, self).__init__(name=name, parent=parent)\n",
    "        self.buildGui()\n",
    "        self.defineSharedVariables()\n",
    "        self.show()\n",
    "\n",
    "    def defineSharedVariables(self):\n",
    "        pass\n",
    "        \n",
    "    def buildGui(self):\n",
    "        pass\n",
    "    \n",
    "    def openRadar(self, filename):\n",
    "        pass\n",
    "\n",
    "artview.plugins._plugins[\"RealTime\"] = RealTime\n",
    "artview.run()"
   ]
  },
  {
   "cell_type": "markdown",
   "metadata": {},
   "source": [
    "Create Graphics:"
   ]
  },
  {
   "cell_type": "code",
   "execution_count": 2,
   "metadata": {
    "collapsed": true
   },
   "outputs": [],
   "source": [
    "def buildGui(self):\n",
    "    self.button = artview.core.QtWidgets.QPushButton(\"Start/Stop\")\n",
    "    self.setCentralWidget(self.button)\n",
    "    self.button.clicked.connect(self.start_stop)\n",
    "    self.running = False\n",
    "\n",
    "    self.timer = artview.core.QtCore.QTimer()\n",
    "    self.timer.timeout.connect(self.loop)\n",
    "\n",
    "def start_stop(self, *args):\n",
    "    if self.running:\n",
    "        self.running=False\n",
    "        self.timer.stop()\n",
    "    else:\n",
    "        self.running=True\n",
    "        self.timer.start(5000)\n",
    "\n",
    "def loop(self):\n",
    "    import subprocess\n",
    "    # get file sorted by name\n",
    "    a = subprocess.check_output(\"ls -l plugin_data | awk '{print $9}'\", shell=True)\n",
    "    last_file = str(a).split('\\\\n')[-2]\n",
    "    self.statusBar().showMessage(\"open plugin_data/\"+last_file)\n",
    "    self.openRadar(\"plugin_data/\"+last_file)\n",
    "\n",
    "\n",
    "RealTime.buildGui = buildGui\n",
    "RealTime.start_stop = start_stop\n",
    "RealTime.loop = loop\n",
    "\n",
    "artview.run()"
   ]
  },
  {
   "cell_type": "markdown",
   "metadata": {},
   "source": [
    "Define Shared Variables"
   ]
  },
  {
   "cell_type": "code",
   "execution_count": 3,
   "metadata": {
    "collapsed": true
   },
   "outputs": [],
   "source": [
    "def defineSharedVariables(self):\n",
    "    self.Vradar = artview.core.Variable(None)\n",
    "    self.sharedVariables = {\"Vradar\": None}\n",
    "\n",
    "def openRadar(self, filename):\n",
    "    import pyart\n",
    "    radar = pyart.io.read(filename)\n",
    "    self.Vradar.change(radar)\n",
    "\n",
    "RealTime.defineSharedVariables = defineSharedVariables\n",
    "RealTime.openRadar = openRadar\n",
    "\n",
    "artview.run()"
   ]
  },
  {
   "cell_type": "markdown",
   "metadata": {},
   "source": [
    "Add Personalised Mode"
   ]
  },
  {
   "cell_type": "code",
   "execution_count": 13,
   "metadata": {},
   "outputs": [
    {
     "name": "stdout",
     "output_type": "stream",
     "text": [
      "You used ARTView. What you think and what you need of ARTView? Send your comment to artview-users@googlegroups.com\n"
     ]
    }
   ],
   "source": [
    "def realTime_mode():\n",
    "    realTime = RealTime()\n",
    "    display = artview.components.RadarDisplay(realTime.Vradar)\n",
    "\n",
    "artview.modes.append(\n",
    "    {'label': 'RealTime',\n",
    "     'group': 'Personalised',\n",
    "     'action': realTime_mode}\n",
    ")\n",
    "\n",
    "artview.scripts.layout()"
   ]
  },
  {
   "cell_type": "markdown",
   "metadata": {},
   "source": [
    "Append as tabs"
   ]
  },
  {
   "cell_type": "code",
   "execution_count": null,
   "metadata": {
    "collapsed": true
   },
   "outputs": [],
   "source": [
    "def realTime_mode():\n",
    "    realTime = RealTime()\n",
    "    display = artview.components.RadarDisplay(realTime.Vradar)\n",
    "    for component in artview.core.componentsList:\n",
    "        if component.name == \"Window\":\n",
    "            break\n",
    "    component.addComponent(realTime)\n",
    "    component.addComponent(display)\n",
    "\n",
    "artview.modes.append(\n",
    "    {'label': 'RealTime as Tab',\n",
    "     'group': 'Personalised',\n",
    "     'action': realTime_mode}\n",
    ")\n",
    "\n",
    "artview.scripts.layout()"
   ]
  }
 ],
 "metadata": {
  "kernelspec": {
   "display_name": "Python 3",
   "language": "python",
   "name": "python3"
  },
  "language_info": {
   "codemirror_mode": {
    "name": "ipython",
    "version": 3
   },
   "file_extension": ".py",
   "mimetype": "text/x-python",
   "name": "python",
   "nbconvert_exporter": "python",
   "pygments_lexer": "ipython3",
   "version": "3.5.3"
  }
 },
 "nbformat": 4,
 "nbformat_minor": 2
}
